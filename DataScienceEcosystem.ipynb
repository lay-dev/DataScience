{
  "metadata": {
    "language_info": {
      "codemirror_mode": {
        "name": "python",
        "version": 3
      },
      "file_extension": ".py",
      "mimetype": "text/x-python",
      "name": "python",
      "nbconvert_exporter": "python",
      "pygments_lexer": "ipython3",
      "version": "3.8"
    },
    "kernelspec": {
      "name": "python",
      "display_name": "Python (Pyodide)",
      "language": "python"
    }
  },
  "nbformat_minor": 4,
  "nbformat": 4,
  "cells": [
    {
      "cell_type": "markdown",
      "source": "# Data Science Tools and Ecosystem",
      "metadata": {}
    },
    {
      "cell_type": "markdown",
      "source": "In this notebook, Data Science Tools and Ecosystem are summarized.",
      "metadata": {}
    },
    {
      "cell_type": "markdown",
      "source": "<b>Objectives:</b>\n<ul>\n<li>List data science languages</li>\n<li>Libraries used by Data Scientists</li>\n<li>Examples of evaluating arithmetic expressions in Python</li>\n<li>Convert minutes to hours</li>\n<li>List popular languages for Data Science</li>\n</ul>",
      "metadata": {}
    },
    {
      "cell_type": "markdown",
      "source": "## Author \nLayelmam Mohammed",
      "metadata": {}
    },
    {
      "cell_type": "markdown",
      "source": "Some of the popular languages that Data Scientists use are:\n<ol>\n<li>Python</li>\n<li>R</li>\n<li>SQL</li>\n<li>Java</li>\n</ol>",
      "metadata": {}
    },
    {
      "cell_type": "markdown",
      "source": "Some of the commonly used libraries used by Data Scientists include:\n<ol>\n<li>NumPy</li>\n<li>Pandas</li>\n<li>Matplotlib</li>\n<li>Seaborn</li>\n<li>TensorFlow</li>\n<li>scikit-learn</li>\n<li>PyTorch</li>\n<li>Keras</li>\n</ol>    ",
      "metadata": {}
    },
    {
      "cell_type": "markdown",
      "source": "<table style=\"width:20%\">\n<tr>\n<th>Data Science Tools</th>\n</tr>\n<tr>\n<td>Jupyter Notebooks</td>\n</tr>\n<tr>\n<td>RStudio</td>\n</tr>\n<tr>\n<td>Spyder</td>\n</tr>\n</table>",
      "metadata": {}
    },
    {
      "cell_type": "markdown",
      "source": "### Below are a few examples of evaluating arithmetic expressions in Python",
      "metadata": {}
    },
    {
      "cell_type": "code",
      "source": "(3*4)+5\n#This a simple arithmetic expression to mutiply then add integers",
      "metadata": {
        "trusted": true
      },
      "execution_count": 7,
      "outputs": [
        {
          "execution_count": 7,
          "output_type": "execute_result",
          "data": {
            "text/plain": "17"
          },
          "metadata": {}
        }
      ]
    },
    {
      "cell_type": "code",
      "source": "200/60\n#This will convert 200 minutes to hours by diving by 60",
      "metadata": {
        "trusted": true
      },
      "execution_count": 8,
      "outputs": [
        {
          "execution_count": 8,
          "output_type": "execute_result",
          "data": {
            "text/plain": "3.3333333333333335"
          },
          "metadata": {}
        }
      ]
    }
  ]
}