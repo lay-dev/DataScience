{
  "nbformat": 4,
  "nbformat_minor": 0,
  "metadata": {
    "colab": {
      "provenance": [],
      "authorship_tag": "ABX9TyNs+9AxIObxChB5yxUDPfD5"
    },
    "kernelspec": {
      "name": "python3",
      "display_name": "Python 3"
    },
    "language_info": {
      "name": "python"
    }
  },
  "cells": [
    {
      "cell_type": "markdown",
      "source": [
        "**GEOSAT 2025**\n",
        "**Building Extraction**\n",
        "\n",
        "> Mohammed LAYELMAM\n",
        "\n"
      ],
      "metadata": {
        "id": "fuk7f97wcs9Q"
      }
    },
    {
      "cell_type": "markdown",
      "source": [
        "Ce script s’inscrit dans une démarche GEOAI (Geospatial Artificial Intelligence) visant à combiner l’analyse d’images satellitaires et l’intelligence artificielle pour la détection automatique des bâtiments dans des zones urbaines.\n",
        "\n",
        "En utilisant la plateforme Google Earth Engine (GEE) et les bibliothèques Python (Folium, Earth Engine API), ce code permet :\n",
        "- De charger et visualiser une image Sentinel-2 en composition RGB,\n",
        "- D’afficher les résultats d’une classification binaire (bâti / non bâti) réalisée via des techniques\n",
        "  de Machine Learning ou de traitement d’images dans GEE,\n",
        "- De comparer de manière interactive les deux couches à l’aide d’un composant de visualisation en balayage (swipe),\n",
        "- D’intégrer une légende explicative des classes détectées.\n",
        "\n",
        "Ce travail illustre une application concrète de la GEOAI dans l’analyse de l’occupation du sol, la cartographie urbaine et la planification territoriale intelligente.\n"
      ],
      "metadata": {
        "id": "cvpryMkga_57"
      }
    },
    {
      "cell_type": "markdown",
      "source": [
        "**Étape 1 : Installer et initialiser Earth**"
      ],
      "metadata": {
        "id": "oQgc0V4Ab0Of"
      }
    },
    {
      "cell_type": "code",
      "execution_count": 51,
      "metadata": {
        "colab": {
          "base_uri": "https://localhost:8080/",
          "height": 17
        },
        "id": "3AeXwhv1bq7o",
        "outputId": "f66a3230-500f-4e76-f2b1-7740a39cc94c"
      },
      "outputs": [
        {
          "output_type": "display_data",
          "data": {
            "text/plain": [
              "<IPython.core.display.HTML object>"
            ],
            "text/html": [
              "\n",
              "            <style>\n",
              "                .geemap-dark {\n",
              "                    --jp-widgets-color: white;\n",
              "                    --jp-widgets-label-color: white;\n",
              "                    --jp-ui-font-color1: white;\n",
              "                    --jp-layout-color2: #454545;\n",
              "                    background-color: #383838;\n",
              "                }\n",
              "\n",
              "                .geemap-dark .jupyter-button {\n",
              "                    --jp-layout-color3: #383838;\n",
              "                }\n",
              "\n",
              "                .geemap-colab {\n",
              "                    background-color: var(--colab-primary-surface-color, white);\n",
              "                }\n",
              "\n",
              "                .geemap-colab .jupyter-button {\n",
              "                    --jp-layout-color3: var(--colab-primary-surface-color, white);\n",
              "                }\n",
              "            </style>\n",
              "            "
            ]
          },
          "metadata": {}
        }
      ],
      "source": [
        "!pip install earthengine-api --upgrade --quiet\n",
        "\n",
        "import ee\n",
        "import geemap\n",
        "\n",
        "# Authentification\n",
        "ee.Authenticate()\n",
        "\n",
        "# Vous pouvez utiliser le nom du projet Earth Engine affiché ici : https://console.cloud.google.com/cloud-resource-manager\n",
        "ee.Initialize(project='my-project-95508-1685445654136')  # ou un autre projet auquel vous avez accès"
      ]
    },
    {
      "cell_type": "markdown",
      "source": [
        "**Étape 2 : Définir la zone d'étude**"
      ],
      "metadata": {
        "id": "jM1aZvc-b5nW"
      }
    },
    {
      "cell_type": "code",
      "source": [
        "# Exemple : une partie de Rabat, Maroc\n",
        "aoi = ee.Geometry.Rectangle([-6.860, 33.97, -6.820, 34.00])"
      ],
      "metadata": {
        "colab": {
          "base_uri": "https://localhost:8080/",
          "height": 17
        },
        "id": "JetmXRLScJ_e",
        "outputId": "63b2cbe5-960d-4441-a80a-6c0c8d768dc2"
      },
      "execution_count": 52,
      "outputs": [
        {
          "output_type": "display_data",
          "data": {
            "text/plain": [
              "<IPython.core.display.HTML object>"
            ],
            "text/html": [
              "\n",
              "            <style>\n",
              "                .geemap-dark {\n",
              "                    --jp-widgets-color: white;\n",
              "                    --jp-widgets-label-color: white;\n",
              "                    --jp-ui-font-color1: white;\n",
              "                    --jp-layout-color2: #454545;\n",
              "                    background-color: #383838;\n",
              "                }\n",
              "\n",
              "                .geemap-dark .jupyter-button {\n",
              "                    --jp-layout-color3: #383838;\n",
              "                }\n",
              "\n",
              "                .geemap-colab {\n",
              "                    background-color: var(--colab-primary-surface-color, white);\n",
              "                }\n",
              "\n",
              "                .geemap-colab .jupyter-button {\n",
              "                    --jp-layout-color3: var(--colab-primary-surface-color, white);\n",
              "                }\n",
              "            </style>\n",
              "            "
            ]
          },
          "metadata": {}
        }
      ]
    },
    {
      "cell_type": "markdown",
      "source": [
        "**Étape 3 : Charger les images Sentinel-2**"
      ],
      "metadata": {
        "id": "6cGSS4d3cL1G"
      }
    },
    {
      "cell_type": "code",
      "source": [
        "sentinel = ee.ImageCollection(\"COPERNICUS/S2_SR_HARMONIZED\")\\\n",
        "    .filterBounds(aoi) \\\n",
        "    .filterDate('2024-01-01', '2024-12-31') \\\n",
        "    .filter(ee.Filter.lt('CLOUDY_PIXEL_PERCENTAGE', 10)) \\\n",
        "    .median() \\\n",
        "    .clip(aoi)"
      ],
      "metadata": {
        "colab": {
          "base_uri": "https://localhost:8080/",
          "height": 17
        },
        "id": "WiZTeg4hcMCQ",
        "outputId": "750000ef-7884-47b5-9079-3851d0aa5101"
      },
      "execution_count": 53,
      "outputs": [
        {
          "output_type": "display_data",
          "data": {
            "text/plain": [
              "<IPython.core.display.HTML object>"
            ],
            "text/html": [
              "\n",
              "            <style>\n",
              "                .geemap-dark {\n",
              "                    --jp-widgets-color: white;\n",
              "                    --jp-widgets-label-color: white;\n",
              "                    --jp-ui-font-color1: white;\n",
              "                    --jp-layout-color2: #454545;\n",
              "                    background-color: #383838;\n",
              "                }\n",
              "\n",
              "                .geemap-dark .jupyter-button {\n",
              "                    --jp-layout-color3: #383838;\n",
              "                }\n",
              "\n",
              "                .geemap-colab {\n",
              "                    background-color: var(--colab-primary-surface-color, white);\n",
              "                }\n",
              "\n",
              "                .geemap-colab .jupyter-button {\n",
              "                    --jp-layout-color3: var(--colab-primary-surface-color, white);\n",
              "                }\n",
              "            </style>\n",
              "            "
            ]
          },
          "metadata": {}
        }
      ]
    },
    {
      "cell_type": "markdown",
      "source": [
        "**Étape 4 : Sélection des bandes utiles**"
      ],
      "metadata": {
        "id": "V-vX7GgDcMXv"
      }
    },
    {
      "cell_type": "code",
      "source": [
        "bands = ['B2', 'B3', 'B4', 'B8']  # Blue, Green, Red, NIR\n",
        "image = sentinel.select(bands)"
      ],
      "metadata": {
        "colab": {
          "base_uri": "https://localhost:8080/",
          "height": 17
        },
        "id": "hWUjHqOYcMfO",
        "outputId": "b09d1e31-046b-4108-8cdf-a3f6371efae0"
      },
      "execution_count": 54,
      "outputs": [
        {
          "output_type": "display_data",
          "data": {
            "text/plain": [
              "<IPython.core.display.HTML object>"
            ],
            "text/html": [
              "\n",
              "            <style>\n",
              "                .geemap-dark {\n",
              "                    --jp-widgets-color: white;\n",
              "                    --jp-widgets-label-color: white;\n",
              "                    --jp-ui-font-color1: white;\n",
              "                    --jp-layout-color2: #454545;\n",
              "                    background-color: #383838;\n",
              "                }\n",
              "\n",
              "                .geemap-dark .jupyter-button {\n",
              "                    --jp-layout-color3: #383838;\n",
              "                }\n",
              "\n",
              "                .geemap-colab {\n",
              "                    background-color: var(--colab-primary-surface-color, white);\n",
              "                }\n",
              "\n",
              "                .geemap-colab .jupyter-button {\n",
              "                    --jp-layout-color3: var(--colab-primary-surface-color, white);\n",
              "                }\n",
              "            </style>\n",
              "            "
            ]
          },
          "metadata": {}
        }
      ]
    },
    {
      "cell_type": "markdown",
      "source": [
        "**Étape 5 : Créer des échantillons de données d'entraînement**"
      ],
      "metadata": {
        "id": "GAWN1_TAcMmE"
      }
    },
    {
      "cell_type": "code",
      "source": [
        "# Zones construites\n",
        "built = ee.FeatureCollection([\n",
        "    ee.Feature(ee.Geometry.Point(-6.845, 33.985), {'class': 1}),\n",
        "    ee.Feature(ee.Geometry.Point(-6.846, 33.986), {'class': 1}),\n",
        "    # Ajoutez d'autres points\n",
        "])\n",
        "\n",
        "# Zones non construites\n",
        "non_built = ee.FeatureCollection([\n",
        "    ee.Feature(ee.Geometry.Point(-6.830, 33.980), {'class': 0}),\n",
        "    ee.Feature(ee.Geometry.Point(-6.831, 33.981), {'class': 0}),\n",
        "    # Ajoutez d'autres points\n",
        "])\n",
        "\n",
        "training_points = built.merge(non_built)"
      ],
      "metadata": {
        "colab": {
          "base_uri": "https://localhost:8080/",
          "height": 17
        },
        "id": "btpwxRP1cMtX",
        "outputId": "820bc48f-10f7-4a01-d36f-ea0286c8cee3"
      },
      "execution_count": 55,
      "outputs": [
        {
          "output_type": "display_data",
          "data": {
            "text/plain": [
              "<IPython.core.display.HTML object>"
            ],
            "text/html": [
              "\n",
              "            <style>\n",
              "                .geemap-dark {\n",
              "                    --jp-widgets-color: white;\n",
              "                    --jp-widgets-label-color: white;\n",
              "                    --jp-ui-font-color1: white;\n",
              "                    --jp-layout-color2: #454545;\n",
              "                    background-color: #383838;\n",
              "                }\n",
              "\n",
              "                .geemap-dark .jupyter-button {\n",
              "                    --jp-layout-color3: #383838;\n",
              "                }\n",
              "\n",
              "                .geemap-colab {\n",
              "                    background-color: var(--colab-primary-surface-color, white);\n",
              "                }\n",
              "\n",
              "                .geemap-colab .jupyter-button {\n",
              "                    --jp-layout-color3: var(--colab-primary-surface-color, white);\n",
              "                }\n",
              "            </style>\n",
              "            "
            ]
          },
          "metadata": {}
        }
      ]
    },
    {
      "cell_type": "markdown",
      "source": [
        "**Étape 6 : Extraction des données pour entraîner le modèle**"
      ],
      "metadata": {
        "id": "czI1BexscM0S"
      }
    },
    {
      "cell_type": "code",
      "source": [
        "training = image.sampleRegions(\n",
        "    collection=training_points,\n",
        "    properties=['class'],\n",
        "    scale=10\n",
        ")"
      ],
      "metadata": {
        "colab": {
          "base_uri": "https://localhost:8080/",
          "height": 17
        },
        "id": "q3c9cs4ScM8I",
        "outputId": "80b5f9be-5e6e-4486-e2d2-8255d4c35430"
      },
      "execution_count": 56,
      "outputs": [
        {
          "output_type": "display_data",
          "data": {
            "text/plain": [
              "<IPython.core.display.HTML object>"
            ],
            "text/html": [
              "\n",
              "            <style>\n",
              "                .geemap-dark {\n",
              "                    --jp-widgets-color: white;\n",
              "                    --jp-widgets-label-color: white;\n",
              "                    --jp-ui-font-color1: white;\n",
              "                    --jp-layout-color2: #454545;\n",
              "                    background-color: #383838;\n",
              "                }\n",
              "\n",
              "                .geemap-dark .jupyter-button {\n",
              "                    --jp-layout-color3: #383838;\n",
              "                }\n",
              "\n",
              "                .geemap-colab {\n",
              "                    background-color: var(--colab-primary-surface-color, white);\n",
              "                }\n",
              "\n",
              "                .geemap-colab .jupyter-button {\n",
              "                    --jp-layout-color3: var(--colab-primary-surface-color, white);\n",
              "                }\n",
              "            </style>\n",
              "            "
            ]
          },
          "metadata": {}
        }
      ]
    },
    {
      "cell_type": "markdown",
      "source": [
        "**Étape 7 : Entraînement du modèle Random Forest**"
      ],
      "metadata": {
        "id": "T6DnH0LkcNCp"
      }
    },
    {
      "cell_type": "code",
      "source": [
        "classifier = ee.Classifier.smileRandomForest(50).train(\n",
        "    features=training,\n",
        "    classProperty='class',\n",
        "    inputProperties=bands\n",
        ")"
      ],
      "metadata": {
        "colab": {
          "base_uri": "https://localhost:8080/",
          "height": 17
        },
        "id": "Fg5l_da3cNMH",
        "outputId": "f5cbacf6-2b42-4a3b-c3b0-441092c11c42"
      },
      "execution_count": 57,
      "outputs": [
        {
          "output_type": "display_data",
          "data": {
            "text/plain": [
              "<IPython.core.display.HTML object>"
            ],
            "text/html": [
              "\n",
              "            <style>\n",
              "                .geemap-dark {\n",
              "                    --jp-widgets-color: white;\n",
              "                    --jp-widgets-label-color: white;\n",
              "                    --jp-ui-font-color1: white;\n",
              "                    --jp-layout-color2: #454545;\n",
              "                    background-color: #383838;\n",
              "                }\n",
              "\n",
              "                .geemap-dark .jupyter-button {\n",
              "                    --jp-layout-color3: #383838;\n",
              "                }\n",
              "\n",
              "                .geemap-colab {\n",
              "                    background-color: var(--colab-primary-surface-color, white);\n",
              "                }\n",
              "\n",
              "                .geemap-colab .jupyter-button {\n",
              "                    --jp-layout-color3: var(--colab-primary-surface-color, white);\n",
              "                }\n",
              "            </style>\n",
              "            "
            ]
          },
          "metadata": {}
        }
      ]
    },
    {
      "cell_type": "markdown",
      "source": [
        "**Étape 8 : Appliquer le classificateur**"
      ],
      "metadata": {
        "id": "JMUn29q9eAsW"
      }
    },
    {
      "cell_type": "code",
      "source": [
        "classified = image.classify(classifier)"
      ],
      "metadata": {
        "colab": {
          "base_uri": "https://localhost:8080/",
          "height": 17
        },
        "id": "a9NWP2DPeBBv",
        "outputId": "a4c18da0-43e6-4a73-e4bf-872b2f3a129f"
      },
      "execution_count": 58,
      "outputs": [
        {
          "output_type": "display_data",
          "data": {
            "text/plain": [
              "<IPython.core.display.HTML object>"
            ],
            "text/html": [
              "\n",
              "            <style>\n",
              "                .geemap-dark {\n",
              "                    --jp-widgets-color: white;\n",
              "                    --jp-widgets-label-color: white;\n",
              "                    --jp-ui-font-color1: white;\n",
              "                    --jp-layout-color2: #454545;\n",
              "                    background-color: #383838;\n",
              "                }\n",
              "\n",
              "                .geemap-dark .jupyter-button {\n",
              "                    --jp-layout-color3: #383838;\n",
              "                }\n",
              "\n",
              "                .geemap-colab {\n",
              "                    background-color: var(--colab-primary-surface-color, white);\n",
              "                }\n",
              "\n",
              "                .geemap-colab .jupyter-button {\n",
              "                    --jp-layout-color3: var(--colab-primary-surface-color, white);\n",
              "                }\n",
              "            </style>\n",
              "            "
            ]
          },
          "metadata": {}
        }
      ]
    },
    {
      "cell_type": "markdown",
      "source": [
        "**Étape 9 : Affichage des résultats**"
      ],
      "metadata": {
        "id": "fcZiFDcveBIW"
      }
    },
    {
      "cell_type": "code",
      "source": [
        "import folium\n",
        "from folium import plugins\n",
        "\n",
        "# Fonction utilitaire pour afficher des objets Earth Engine\n",
        "def add_ee_layer(self, ee_image_object, vis_params, name):\n",
        "    map_id_dict = ee.Image(ee_image_object).getMapId(vis_params)\n",
        "    folium.raster_layers.TileLayer(\n",
        "        tiles=map_id_dict['tile_fetcher'].url_format,\n",
        "        attr='Google Earth Engine',\n",
        "        name=name,\n",
        "        overlay=True,\n",
        "        control=True\n",
        "    ).add_to(self)\n",
        "\n",
        "folium.Map.add_ee_layer = add_ee_layer\n",
        "\n",
        "# Création de la carte\n",
        "map = folium.Map(location=[33.985, -6.84], zoom_start=15)\n",
        "\n",
        "# Affichage de l'image classifiée\n",
        "map.add_ee_layer(classified, {'min': 0, 'max': 1, 'palette': ['white', 'red']}, 'Buildings')\n",
        "\n",
        "# Ajout des contrôles\n",
        "map.add_child(folium.LayerControl())\n",
        "map"
      ],
      "metadata": {
        "colab": {
          "base_uri": "https://localhost:8080/",
          "height": 762
        },
        "id": "5qpmmzUSeBPS",
        "outputId": "5f53e446-426d-4723-cd01-c46d2d0fb956"
      },
      "execution_count": 59,
      "outputs": [
        {
          "output_type": "display_data",
          "data": {
            "text/plain": [
              "<IPython.core.display.HTML object>"
            ],
            "text/html": [
              "\n",
              "            <style>\n",
              "                .geemap-dark {\n",
              "                    --jp-widgets-color: white;\n",
              "                    --jp-widgets-label-color: white;\n",
              "                    --jp-ui-font-color1: white;\n",
              "                    --jp-layout-color2: #454545;\n",
              "                    background-color: #383838;\n",
              "                }\n",
              "\n",
              "                .geemap-dark .jupyter-button {\n",
              "                    --jp-layout-color3: #383838;\n",
              "                }\n",
              "\n",
              "                .geemap-colab {\n",
              "                    background-color: var(--colab-primary-surface-color, white);\n",
              "                }\n",
              "\n",
              "                .geemap-colab .jupyter-button {\n",
              "                    --jp-layout-color3: var(--colab-primary-surface-color, white);\n",
              "                }\n",
              "            </style>\n",
              "            "
            ]
          },
          "metadata": {}
        },
        {
          "output_type": "execute_result",
          "data": {
            "text/plain": [
              "<folium.folium.Map at 0x7895896a49d0>"
            ],
            "text/html": [
              "<div style=\"width:100%;\"><div style=\"position:relative;width:100%;height:0;padding-bottom:60%;\"><span style=\"color:#565656\">Make this Notebook Trusted to load map: File -> Trust Notebook</span><iframe srcdoc=\"&lt;!DOCTYPE html&gt;\n",
              "&lt;html&gt;\n",
              "&lt;head&gt;\n",
              "    \n",
              "    &lt;meta http-equiv=&quot;content-type&quot; content=&quot;text/html; charset=UTF-8&quot; /&gt;\n",
              "    \n",
              "        &lt;script&gt;\n",
              "            L_NO_TOUCH = false;\n",
              "            L_DISABLE_3D = false;\n",
              "        &lt;/script&gt;\n",
              "    \n",
              "    &lt;style&gt;html, body {width: 100%;height: 100%;margin: 0;padding: 0;}&lt;/style&gt;\n",
              "    &lt;style&gt;#map {position:absolute;top:0;bottom:0;right:0;left:0;}&lt;/style&gt;\n",
              "    &lt;script src=&quot;https://cdn.jsdelivr.net/npm/leaflet@1.9.3/dist/leaflet.js&quot;&gt;&lt;/script&gt;\n",
              "    &lt;script src=&quot;https://code.jquery.com/jquery-3.7.1.min.js&quot;&gt;&lt;/script&gt;\n",
              "    &lt;script src=&quot;https://cdn.jsdelivr.net/npm/bootstrap@5.2.2/dist/js/bootstrap.bundle.min.js&quot;&gt;&lt;/script&gt;\n",
              "    &lt;script src=&quot;https://cdnjs.cloudflare.com/ajax/libs/Leaflet.awesome-markers/2.0.2/leaflet.awesome-markers.js&quot;&gt;&lt;/script&gt;\n",
              "    &lt;link rel=&quot;stylesheet&quot; href=&quot;https://cdn.jsdelivr.net/npm/leaflet@1.9.3/dist/leaflet.css&quot;/&gt;\n",
              "    &lt;link rel=&quot;stylesheet&quot; href=&quot;https://cdn.jsdelivr.net/npm/bootstrap@5.2.2/dist/css/bootstrap.min.css&quot;/&gt;\n",
              "    &lt;link rel=&quot;stylesheet&quot; href=&quot;https://netdna.bootstrapcdn.com/bootstrap/3.0.0/css/bootstrap-glyphicons.css&quot;/&gt;\n",
              "    &lt;link rel=&quot;stylesheet&quot; href=&quot;https://cdn.jsdelivr.net/npm/@fortawesome/fontawesome-free@6.2.0/css/all.min.css&quot;/&gt;\n",
              "    &lt;link rel=&quot;stylesheet&quot; href=&quot;https://cdnjs.cloudflare.com/ajax/libs/Leaflet.awesome-markers/2.0.2/leaflet.awesome-markers.css&quot;/&gt;\n",
              "    &lt;link rel=&quot;stylesheet&quot; href=&quot;https://cdn.jsdelivr.net/gh/python-visualization/folium/folium/templates/leaflet.awesome.rotate.min.css&quot;/&gt;\n",
              "    \n",
              "            &lt;meta name=&quot;viewport&quot; content=&quot;width=device-width,\n",
              "                initial-scale=1.0, maximum-scale=1.0, user-scalable=no&quot; /&gt;\n",
              "            &lt;style&gt;\n",
              "                #map_0a5193fb39512f18b6b2fec060a56a8c {\n",
              "                    position: relative;\n",
              "                    width: 100.0%;\n",
              "                    height: 100.0%;\n",
              "                    left: 0.0%;\n",
              "                    top: 0.0%;\n",
              "                }\n",
              "                .leaflet-container { font-size: 1rem; }\n",
              "            &lt;/style&gt;\n",
              "        \n",
              "&lt;/head&gt;\n",
              "&lt;body&gt;\n",
              "    \n",
              "    \n",
              "            &lt;div class=&quot;folium-map&quot; id=&quot;map_0a5193fb39512f18b6b2fec060a56a8c&quot; &gt;&lt;/div&gt;\n",
              "        \n",
              "&lt;/body&gt;\n",
              "&lt;script&gt;\n",
              "    \n",
              "    \n",
              "            var map_0a5193fb39512f18b6b2fec060a56a8c = L.map(\n",
              "                &quot;map_0a5193fb39512f18b6b2fec060a56a8c&quot;,\n",
              "                {\n",
              "                    center: [33.985, -6.84],\n",
              "                    crs: L.CRS.EPSG3857,\n",
              "                    ...{\n",
              "  &quot;zoom&quot;: 15,\n",
              "  &quot;zoomControl&quot;: true,\n",
              "  &quot;preferCanvas&quot;: false,\n",
              "}\n",
              "\n",
              "                }\n",
              "            );\n",
              "\n",
              "            \n",
              "\n",
              "        \n",
              "    \n",
              "            var tile_layer_b07efd403bb8d09874ae26d88b8e9419 = L.tileLayer(\n",
              "                &quot;https://tile.openstreetmap.org/{z}/{x}/{y}.png&quot;,\n",
              "                {\n",
              "  &quot;minZoom&quot;: 0,\n",
              "  &quot;maxZoom&quot;: 19,\n",
              "  &quot;maxNativeZoom&quot;: 19,\n",
              "  &quot;noWrap&quot;: false,\n",
              "  &quot;attribution&quot;: &quot;\\u0026copy; \\u003ca href=\\&quot;https://www.openstreetmap.org/copyright\\&quot;\\u003eOpenStreetMap\\u003c/a\\u003e contributors&quot;,\n",
              "  &quot;subdomains&quot;: &quot;abc&quot;,\n",
              "  &quot;detectRetina&quot;: false,\n",
              "  &quot;tms&quot;: false,\n",
              "  &quot;opacity&quot;: 1,\n",
              "}\n",
              "\n",
              "            );\n",
              "        \n",
              "    \n",
              "            tile_layer_b07efd403bb8d09874ae26d88b8e9419.addTo(map_0a5193fb39512f18b6b2fec060a56a8c);\n",
              "        \n",
              "    \n",
              "            var tile_layer_317779f89219862758730f1b1d221321 = L.tileLayer(\n",
              "                &quot;https://earthengine.googleapis.com/v1/projects/my-project-95508-1685445654136/maps/c4f255d66514b5d4bd8ffdc59c7eaaf8-6fbbdf5b49a4db3d23aeb7d11ca6111e/tiles/{z}/{x}/{y}&quot;,\n",
              "                {\n",
              "  &quot;minZoom&quot;: 0,\n",
              "  &quot;maxZoom&quot;: 18,\n",
              "  &quot;maxNativeZoom&quot;: 18,\n",
              "  &quot;noWrap&quot;: false,\n",
              "  &quot;attribution&quot;: &quot;Google Earth Engine&quot;,\n",
              "  &quot;subdomains&quot;: &quot;abc&quot;,\n",
              "  &quot;detectRetina&quot;: false,\n",
              "  &quot;tms&quot;: false,\n",
              "  &quot;opacity&quot;: 1,\n",
              "}\n",
              "\n",
              "            );\n",
              "        \n",
              "    \n",
              "            tile_layer_317779f89219862758730f1b1d221321.addTo(map_0a5193fb39512f18b6b2fec060a56a8c);\n",
              "        \n",
              "    \n",
              "            var layer_control_cce925e4c2287889418a62385e517765_layers = {\n",
              "                base_layers : {\n",
              "                    &quot;openstreetmap&quot; : tile_layer_b07efd403bb8d09874ae26d88b8e9419,\n",
              "                },\n",
              "                overlays :  {\n",
              "                    &quot;Buildings&quot; : tile_layer_317779f89219862758730f1b1d221321,\n",
              "                },\n",
              "            };\n",
              "            let layer_control_cce925e4c2287889418a62385e517765 = L.control.layers(\n",
              "                layer_control_cce925e4c2287889418a62385e517765_layers.base_layers,\n",
              "                layer_control_cce925e4c2287889418a62385e517765_layers.overlays,\n",
              "                {\n",
              "  &quot;position&quot;: &quot;topright&quot;,\n",
              "  &quot;collapsed&quot;: true,\n",
              "  &quot;autoZIndex&quot;: true,\n",
              "}\n",
              "            ).addTo(map_0a5193fb39512f18b6b2fec060a56a8c);\n",
              "\n",
              "        \n",
              "&lt;/script&gt;\n",
              "&lt;/html&gt;\" style=\"position:absolute;width:100%;height:100%;left:0;top:0;border:none !important;\" allowfullscreen webkitallowfullscreen mozallowfullscreen></iframe></div></div>"
            ]
          },
          "metadata": {},
          "execution_count": 59
        }
      ]
    },
    {
      "cell_type": "code",
      "source": [
        "\n",
        "# Obtenir les URLs pour le DualMap\n",
        "sat_mapid = ee.Image(sentinel).getMapId(vis_sat)\n",
        "class_mapid = ee.Image(classified).getMapId(vis_class)\n",
        "\n",
        "# Créer une carte DualMap\n",
        "dual_map = plugins.DualMap(location=[33.985, -6.84], zoom_start=14)\n",
        "\n",
        "# Ajouter l’image satellite à gauche\n",
        "folium.TileLayer(\n",
        "    tiles=sat_mapid['tile_fetcher'].url_format,\n",
        "    attr='Sentinel-2 RGB',\n",
        "    name='Image Satellite',\n",
        "    overlay=True,\n",
        "    control=True\n",
        ").add_to(dual_map.m1)\n",
        "\n",
        "# Ajouter la classification à droite\n",
        "folium.TileLayer(\n",
        "    tiles=class_mapid['tile_fetcher'].url_format,\n",
        "    attr='Classification',\n",
        "    name='Bâtiments',\n",
        "    overlay=True,\n",
        "    control=True\n",
        ").add_to(dual_map.m2)\n",
        "\n",
        "# Ajouter la légende (à gauche seulement pour éviter les doublons)\n",
        "legend_html = '''\n",
        "<div style=\"\n",
        "    position: fixed;\n",
        "    bottom: 50px; left: 50px; width: 180px; height: 90px;\n",
        "    background-color: white; border:2px solid grey; z-index:9999; font-size:14px;\n",
        "    padding: 10px;\">\n",
        "    <b>Classification Bâtiments</b><br>\n",
        "    <i style=\"background:white; width:12px; height:12px; float:left; margin-right:5px;\"></i> Non bâti<br>\n",
        "    <i style=\"background:red; width:12px; height:12px; float:left; margin-right:5px;\"></i> Bâti détecté\n",
        "</div>\n",
        "'''\n",
        "dual_map.m1.get_root().html.add_child(folium.Element(legend_html))\n",
        "\n",
        "# Afficher la carte\n",
        "dual_map\n"
      ],
      "metadata": {
        "colab": {
          "base_uri": "https://localhost:8080/",
          "height": 762
        },
        "id": "4Vyp_PI5_6D3",
        "outputId": "68ca39d8-9f98-4b75-b923-102edb213365"
      },
      "execution_count": 60,
      "outputs": [
        {
          "output_type": "display_data",
          "data": {
            "text/plain": [
              "<IPython.core.display.HTML object>"
            ],
            "text/html": [
              "\n",
              "            <style>\n",
              "                .geemap-dark {\n",
              "                    --jp-widgets-color: white;\n",
              "                    --jp-widgets-label-color: white;\n",
              "                    --jp-ui-font-color1: white;\n",
              "                    --jp-layout-color2: #454545;\n",
              "                    background-color: #383838;\n",
              "                }\n",
              "\n",
              "                .geemap-dark .jupyter-button {\n",
              "                    --jp-layout-color3: #383838;\n",
              "                }\n",
              "\n",
              "                .geemap-colab {\n",
              "                    background-color: var(--colab-primary-surface-color, white);\n",
              "                }\n",
              "\n",
              "                .geemap-colab .jupyter-button {\n",
              "                    --jp-layout-color3: var(--colab-primary-surface-color, white);\n",
              "                }\n",
              "            </style>\n",
              "            "
            ]
          },
          "metadata": {}
        },
        {
          "output_type": "execute_result",
          "data": {
            "text/plain": [
              "<folium.plugins.dual_map.DualMap at 0x78957580a190>"
            ],
            "text/html": [
              "<div style=\"width:100%;\"><div style=\"position:relative;width:100%;height:0;padding-bottom:60%;\"><span style=\"color:#565656\">Make this Notebook Trusted to load map: File -> Trust Notebook</span><iframe srcdoc=\"&lt;!DOCTYPE html&gt;\n",
              "&lt;html&gt;\n",
              "&lt;head&gt;\n",
              "    \n",
              "    &lt;meta http-equiv=&quot;content-type&quot; content=&quot;text/html; charset=UTF-8&quot; /&gt;\n",
              "    \n",
              "        &lt;script&gt;\n",
              "            L_NO_TOUCH = false;\n",
              "            L_DISABLE_3D = false;\n",
              "        &lt;/script&gt;\n",
              "    \n",
              "    &lt;style&gt;html, body {width: 100%;height: 100%;margin: 0;padding: 0;}&lt;/style&gt;\n",
              "    &lt;style&gt;#map {position:absolute;top:0;bottom:0;right:0;left:0;}&lt;/style&gt;\n",
              "    &lt;script src=&quot;https://cdn.jsdelivr.net/npm/leaflet@1.9.3/dist/leaflet.js&quot;&gt;&lt;/script&gt;\n",
              "    &lt;script src=&quot;https://code.jquery.com/jquery-3.7.1.min.js&quot;&gt;&lt;/script&gt;\n",
              "    &lt;script src=&quot;https://cdn.jsdelivr.net/npm/bootstrap@5.2.2/dist/js/bootstrap.bundle.min.js&quot;&gt;&lt;/script&gt;\n",
              "    &lt;script src=&quot;https://cdnjs.cloudflare.com/ajax/libs/Leaflet.awesome-markers/2.0.2/leaflet.awesome-markers.js&quot;&gt;&lt;/script&gt;\n",
              "    &lt;link rel=&quot;stylesheet&quot; href=&quot;https://cdn.jsdelivr.net/npm/leaflet@1.9.3/dist/leaflet.css&quot;/&gt;\n",
              "    &lt;link rel=&quot;stylesheet&quot; href=&quot;https://cdn.jsdelivr.net/npm/bootstrap@5.2.2/dist/css/bootstrap.min.css&quot;/&gt;\n",
              "    &lt;link rel=&quot;stylesheet&quot; href=&quot;https://netdna.bootstrapcdn.com/bootstrap/3.0.0/css/bootstrap-glyphicons.css&quot;/&gt;\n",
              "    &lt;link rel=&quot;stylesheet&quot; href=&quot;https://cdn.jsdelivr.net/npm/@fortawesome/fontawesome-free@6.2.0/css/all.min.css&quot;/&gt;\n",
              "    &lt;link rel=&quot;stylesheet&quot; href=&quot;https://cdnjs.cloudflare.com/ajax/libs/Leaflet.awesome-markers/2.0.2/leaflet.awesome-markers.css&quot;/&gt;\n",
              "    &lt;link rel=&quot;stylesheet&quot; href=&quot;https://cdn.jsdelivr.net/gh/python-visualization/folium/folium/templates/leaflet.awesome.rotate.min.css&quot;/&gt;\n",
              "    \n",
              "            &lt;meta name=&quot;viewport&quot; content=&quot;width=device-width,\n",
              "                initial-scale=1.0, maximum-scale=1.0, user-scalable=no&quot; /&gt;\n",
              "            &lt;style&gt;\n",
              "                #map_31d729046ba89b340492b407b8dffacb {\n",
              "                    position: absolute;\n",
              "                    width: 50.0%;\n",
              "                    height: 100.0%;\n",
              "                    left: 0.0%;\n",
              "                    top: 0.0%;\n",
              "                }\n",
              "                .leaflet-container { font-size: 1rem; }\n",
              "            &lt;/style&gt;\n",
              "        \n",
              "    \n",
              "            &lt;meta name=&quot;viewport&quot; content=&quot;width=device-width,\n",
              "                initial-scale=1.0, maximum-scale=1.0, user-scalable=no&quot; /&gt;\n",
              "            &lt;style&gt;\n",
              "                #map_8df24cef5c36a06878ce698710dba7c3 {\n",
              "                    position: absolute;\n",
              "                    width: 50.0%;\n",
              "                    height: 100.0%;\n",
              "                    left: 50.0%;\n",
              "                    top: 0.0%;\n",
              "                }\n",
              "                .leaflet-container { font-size: 1rem; }\n",
              "            &lt;/style&gt;\n",
              "        \n",
              "    &lt;script src=&quot;https://cdn.jsdelivr.net/gh/jieter/Leaflet.Sync/L.Map.Sync.min.js&quot;&gt;&lt;/script&gt;\n",
              "&lt;/head&gt;\n",
              "&lt;body&gt;\n",
              "    \n",
              "    \n",
              "&lt;div style=&quot;\n",
              "    position: fixed; \n",
              "    bottom: 50px; left: 50px; width: 180px; height: 90px; \n",
              "    background-color: white; border:2px solid grey; z-index:9999; font-size:14px;\n",
              "    padding: 10px;&quot;&gt;\n",
              "    &lt;b&gt;Classification Bâtiments&lt;/b&gt;&lt;br&gt;\n",
              "    &lt;i style=&quot;background:white; width:12px; height:12px; float:left; margin-right:5px;&quot;&gt;&lt;/i&gt; Non bâti&lt;br&gt;\n",
              "    &lt;i style=&quot;background:red; width:12px; height:12px; float:left; margin-right:5px;&quot;&gt;&lt;/i&gt; Bâti détecté\n",
              "&lt;/div&gt;\n",
              "    \n",
              "            &lt;div class=&quot;folium-map&quot; id=&quot;map_31d729046ba89b340492b407b8dffacb&quot; &gt;&lt;/div&gt;\n",
              "        \n",
              "    \n",
              "            &lt;div class=&quot;folium-map&quot; id=&quot;map_8df24cef5c36a06878ce698710dba7c3&quot; &gt;&lt;/div&gt;\n",
              "        \n",
              "&lt;/body&gt;\n",
              "&lt;script&gt;\n",
              "    \n",
              "    \n",
              "            var map_31d729046ba89b340492b407b8dffacb = L.map(\n",
              "                &quot;map_31d729046ba89b340492b407b8dffacb&quot;,\n",
              "                {\n",
              "                    center: [33.985, -6.84],\n",
              "                    crs: L.CRS.EPSG3857,\n",
              "                    ...{\n",
              "  &quot;zoom&quot;: 14,\n",
              "  &quot;zoomControl&quot;: true,\n",
              "  &quot;preferCanvas&quot;: false,\n",
              "}\n",
              "\n",
              "                }\n",
              "            );\n",
              "\n",
              "            \n",
              "\n",
              "        \n",
              "    \n",
              "            var tile_layer_f3801420164b07baf0468b584ed54f29 = L.tileLayer(\n",
              "                &quot;https://tile.openstreetmap.org/{z}/{x}/{y}.png&quot;,\n",
              "                {\n",
              "  &quot;minZoom&quot;: 0,\n",
              "  &quot;maxZoom&quot;: 19,\n",
              "  &quot;maxNativeZoom&quot;: 19,\n",
              "  &quot;noWrap&quot;: false,\n",
              "  &quot;attribution&quot;: &quot;\\u0026copy; \\u003ca href=\\&quot;https://www.openstreetmap.org/copyright\\&quot;\\u003eOpenStreetMap\\u003c/a\\u003e contributors&quot;,\n",
              "  &quot;subdomains&quot;: &quot;abc&quot;,\n",
              "  &quot;detectRetina&quot;: false,\n",
              "  &quot;tms&quot;: false,\n",
              "  &quot;opacity&quot;: 1,\n",
              "}\n",
              "\n",
              "            );\n",
              "        \n",
              "    \n",
              "            tile_layer_f3801420164b07baf0468b584ed54f29.addTo(map_31d729046ba89b340492b407b8dffacb);\n",
              "        \n",
              "    \n",
              "            var tile_layer_a1457acaefce9d17da9be8fd25c11840 = L.tileLayer(\n",
              "                &quot;https://earthengine.googleapis.com/v1/projects/my-project-95508-1685445654136/maps/6b2de2aee9c88f322a3dbf434389ccf9-b39cec26560ef0ae04704df9318031b7/tiles/{z}/{x}/{y}&quot;,\n",
              "                {\n",
              "  &quot;minZoom&quot;: 0,\n",
              "  &quot;maxZoom&quot;: 18,\n",
              "  &quot;maxNativeZoom&quot;: 18,\n",
              "  &quot;noWrap&quot;: false,\n",
              "  &quot;attribution&quot;: &quot;Sentinel-2 RGB&quot;,\n",
              "  &quot;subdomains&quot;: &quot;abc&quot;,\n",
              "  &quot;detectRetina&quot;: false,\n",
              "  &quot;tms&quot;: false,\n",
              "  &quot;opacity&quot;: 1,\n",
              "}\n",
              "\n",
              "            );\n",
              "        \n",
              "    \n",
              "            tile_layer_a1457acaefce9d17da9be8fd25c11840.addTo(map_31d729046ba89b340492b407b8dffacb);\n",
              "        \n",
              "    \n",
              "            var map_8df24cef5c36a06878ce698710dba7c3 = L.map(\n",
              "                &quot;map_8df24cef5c36a06878ce698710dba7c3&quot;,\n",
              "                {\n",
              "                    center: [33.985, -6.84],\n",
              "                    crs: L.CRS.EPSG3857,\n",
              "                    ...{\n",
              "  &quot;zoom&quot;: 14,\n",
              "  &quot;zoomControl&quot;: true,\n",
              "  &quot;preferCanvas&quot;: false,\n",
              "}\n",
              "\n",
              "                }\n",
              "            );\n",
              "\n",
              "            \n",
              "\n",
              "        \n",
              "    \n",
              "            var tile_layer_d87b0e78aba9d9030d8268d1737bd06c = L.tileLayer(\n",
              "                &quot;https://tile.openstreetmap.org/{z}/{x}/{y}.png&quot;,\n",
              "                {\n",
              "  &quot;minZoom&quot;: 0,\n",
              "  &quot;maxZoom&quot;: 19,\n",
              "  &quot;maxNativeZoom&quot;: 19,\n",
              "  &quot;noWrap&quot;: false,\n",
              "  &quot;attribution&quot;: &quot;\\u0026copy; \\u003ca href=\\&quot;https://www.openstreetmap.org/copyright\\&quot;\\u003eOpenStreetMap\\u003c/a\\u003e contributors&quot;,\n",
              "  &quot;subdomains&quot;: &quot;abc&quot;,\n",
              "  &quot;detectRetina&quot;: false,\n",
              "  &quot;tms&quot;: false,\n",
              "  &quot;opacity&quot;: 1,\n",
              "}\n",
              "\n",
              "            );\n",
              "        \n",
              "    \n",
              "            tile_layer_d87b0e78aba9d9030d8268d1737bd06c.addTo(map_8df24cef5c36a06878ce698710dba7c3);\n",
              "        \n",
              "    \n",
              "            var tile_layer_cd206414f3910b5825695b87002e90ed = L.tileLayer(\n",
              "                &quot;https://earthengine.googleapis.com/v1/projects/my-project-95508-1685445654136/maps/c4f255d66514b5d4bd8ffdc59c7eaaf8-18095f2131f4d5952e2c8ae51e0e9c23/tiles/{z}/{x}/{y}&quot;,\n",
              "                {\n",
              "  &quot;minZoom&quot;: 0,\n",
              "  &quot;maxZoom&quot;: 18,\n",
              "  &quot;maxNativeZoom&quot;: 18,\n",
              "  &quot;noWrap&quot;: false,\n",
              "  &quot;attribution&quot;: &quot;Classification&quot;,\n",
              "  &quot;subdomains&quot;: &quot;abc&quot;,\n",
              "  &quot;detectRetina&quot;: false,\n",
              "  &quot;tms&quot;: false,\n",
              "  &quot;opacity&quot;: 1,\n",
              "}\n",
              "\n",
              "            );\n",
              "        \n",
              "    \n",
              "            tile_layer_cd206414f3910b5825695b87002e90ed.addTo(map_8df24cef5c36a06878ce698710dba7c3);\n",
              "        \n",
              "    \n",
              "            map_31d729046ba89b340492b407b8dffacb.sync(map_8df24cef5c36a06878ce698710dba7c3);\n",
              "            map_8df24cef5c36a06878ce698710dba7c3.sync(map_31d729046ba89b340492b407b8dffacb);\n",
              "        \n",
              "&lt;/script&gt;\n",
              "&lt;/html&gt;\" style=\"position:absolute;width:100%;height:100%;left:0;top:0;border:none !important;\" allowfullscreen webkitallowfullscreen mozallowfullscreen></iframe></div></div>"
            ]
          },
          "metadata": {},
          "execution_count": 60
        }
      ]
    },
    {
      "cell_type": "markdown",
      "source": [
        "**Étape 10 : Vectoriser et exporter l'image classifiée**"
      ],
      "metadata": {
        "id": "lBUVhOHm58JJ"
      }
    },
    {
      "cell_type": "code",
      "source": [
        "building_vectors = classified.selfMask().reduceToVectors(\n",
        "    geometry = ee.Geometry.Rectangle([-6.860, 33.97, -6.820, 34.00]),\n",
        "    scale=10,\n",
        "    geometryType='polygon',\n",
        "    labelProperty='class',\n",
        "    maxPixels=1e10\n",
        ")\n",
        "\n",
        "# Étape 2 : Export en SHP vers Google Drive\n",
        "export_task = ee.batch.Export.table.toDrive(\n",
        "    collection=building_vectors,\n",
        "    description='Export_Building_Shapes',\n",
        "    folder='GEE_Export',  # Créez-le dans Drive si besoin\n",
        "    fileFormat='SHP'\n",
        ")\n",
        "export_task.start()\n",
        "\n",
        "print(\"✅ Export lancé vers votre Google Drive dans le dossier 'GEE_Export'\")"
      ],
      "metadata": {
        "colab": {
          "base_uri": "https://localhost:8080/"
        },
        "id": "IaDNYzm_4g0Z",
        "outputId": "619cd74e-1af7-436a-fd11-b500805cfc56"
      },
      "execution_count": 21,
      "outputs": [
        {
          "output_type": "stream",
          "name": "stdout",
          "text": [
            "✅ Export lancé vers votre Google Drive dans le dossier 'GEE_Export'\n"
          ]
        }
      ]
    },
    {
      "cell_type": "markdown",
      "source": [
        "**Etape 11 : Répartition de la Surface Bâtie en Ha**"
      ],
      "metadata": {
        "id": "2rBEigWF_b1P"
      }
    },
    {
      "cell_type": "code",
      "source": [
        "import matplotlib.pyplot as plt\n",
        "\n",
        "# Reclassifier pour ne garder que les pixels bâtis (=1)\n",
        "batiments = classified.eq(1)\n",
        "\n",
        "# Définir la zone d’étude (ou utiliser une shapefile déjà importée)\n",
        "zone_etude = ee.Geometry.Rectangle([-6.86, 33.98, -6.83, 34.0])  # Exemple Rabat\n",
        "\n",
        "# Calcul de la superficie des pixels bâtis\n",
        "# 1 pixel Sentinel-2 = 10m x 10m = 100 m²\n",
        "pixel_area = ee.Image.pixelArea().updateMask(batiments)\n",
        "\n",
        "# Surface totale bâtie en m²\n",
        "surface_batie_m2 = pixel_area.reduceRegion(\n",
        "    reducer=ee.Reducer.sum(),\n",
        "    geometry=zone_etude,\n",
        "    scale=10,\n",
        "    maxPixels=1e13\n",
        ").getInfo()\n",
        "\n",
        "# Valeurs extraites\n",
        "surface_batie = surface_batie_m2['area'] if 'area' in surface_batie_m2 else 0\n",
        "surface_totale = zone_etude.area().getInfo()\n",
        "surface_non_batie = surface_totale - surface_batie\n",
        "\n",
        "# Conversion en hectares\n",
        "surface_batie_ha = surface_batie / 10000\n",
        "surface_non_batie_ha = surface_non_batie / 10000\n",
        "\n",
        "# Affichage du graphe\n",
        "labels = ['Surface Bâtie (ha)', 'Surface Non Bâtie (ha)']\n",
        "sizes = [surface_batie_ha, surface_non_batie_ha]\n",
        "colors = ['red', 'lightgray']\n",
        "\n",
        "plt.figure(figsize=(6,6))\n",
        "plt.pie(sizes, labels=labels, colors=colors, autopct='%1.1f%%', startangle=90)\n",
        "plt.title(\"Répartition de la Surface (Zone d’étude)\")\n",
        "plt.axis('equal')\n",
        "plt.show()"
      ],
      "metadata": {
        "colab": {
          "base_uri": "https://localhost:8080/",
          "height": 521
        },
        "id": "UPrNPzsg_Bje",
        "outputId": "74d5a6d9-8522-4966-fcbf-4ed5ee84122e"
      },
      "execution_count": 61,
      "outputs": [
        {
          "output_type": "display_data",
          "data": {
            "text/plain": [
              "<IPython.core.display.HTML object>"
            ],
            "text/html": [
              "\n",
              "            <style>\n",
              "                .geemap-dark {\n",
              "                    --jp-widgets-color: white;\n",
              "                    --jp-widgets-label-color: white;\n",
              "                    --jp-ui-font-color1: white;\n",
              "                    --jp-layout-color2: #454545;\n",
              "                    background-color: #383838;\n",
              "                }\n",
              "\n",
              "                .geemap-dark .jupyter-button {\n",
              "                    --jp-layout-color3: #383838;\n",
              "                }\n",
              "\n",
              "                .geemap-colab {\n",
              "                    background-color: var(--colab-primary-surface-color, white);\n",
              "                }\n",
              "\n",
              "                .geemap-colab .jupyter-button {\n",
              "                    --jp-layout-color3: var(--colab-primary-surface-color, white);\n",
              "                }\n",
              "            </style>\n",
              "            "
            ]
          },
          "metadata": {}
        },
        {
          "output_type": "display_data",
          "data": {
            "text/plain": [
              "<Figure size 600x600 with 1 Axes>"
            ],
            "image/png": "[encoded data removed]"
          },
          "metadata": {}
        }
      ]
    }
  ]
}